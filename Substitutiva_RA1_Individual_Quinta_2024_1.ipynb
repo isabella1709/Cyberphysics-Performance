{
  "nbformat": 4,
  "nbformat_minor": 0,
  "metadata": {
    "colab": {
      "provenance": [],
      "include_colab_link": true
    },
    "kernelspec": {
      "name": "python3",
      "display_name": "Python 3"
    },
    "language_info": {
      "name": "python"
    }
  },
  "cells": [
    {
      "cell_type": "markdown",
      "metadata": {
        "id": "view-in-github",
        "colab_type": "text"
      },
      "source": [
        "<a href=\"https://colab.research.google.com/github/isabella1709/Modelagem-de-Fenomenos-Fisicos/blob/main/Substitutiva_RA1_Individual_Quinta_2024_1.ipynb\" target=\"_parent\"><img src=\"https://colab.research.google.com/assets/colab-badge.svg\" alt=\"Open In Colab\"/></a>"
      ]
    },
    {
      "cell_type": "markdown",
      "source": [
        "# Avaliação De Recuperação INDIVIDUAL RA1 - 2024-1 (substitutiva)\n",
        "\n",
        "**Antes de começar, leia estas instruções cuidadosamente.**\n",
        "Esta avaliação é individual. Você poderá consultar qualquer fonte disponível na biblioteca, suas anotações ou na internet. Mas, não poderá consultar outras pessoas.\n",
        "\n",
        "Não existirão prorrogações de prazo de entrega.\n",
        "\n",
        "**Trabalhos contendo partes idênticas entregues por pessoas, diferentes, serão zerados.**\n",
        "\n",
        "Todos os trabalhos serão entregues em uma cópia deste caderno de atividades na forma de um link postado no AVA da instituição (Canvas). Todos os enunciados devem ser preservados e você deverá inserir uma célula de textos com o **seu nome**, logo após esta célula de texto de instruções.\n",
        "\n",
        "Qualquer alteração do caderno contendo as suas respostas que seja registrada após a data de postagem provocará a anulação da avaliação.\n",
        "\n",
        "Você poderá usar, neste notebook, apenas a linguagem python limitada ao uso das seguintes bibliotecas: numpy, sympy, matplotlib, ipWidgets e IPython. Todo e qualquer gráfico deverá ser criado usando o Python.\n",
        "\n",
        "Entrega será realizada com a postagem de um link para um ambiente de execução, no AVA da institução. Neste link o seu caderno deve permitir ser executado (permissão de leitor). Serão aceitos links diretos ao ambiente do Google Colaboratory, ou Links a um caderno do Google Colaboratory que tenha sido salvo pelo próprio Google Colaboratory no GitHub. Links para outro ambiente, ou que requeiram qualquer tipo de download, cliques extras, ou ainda, que requeiram aprovação para acesso, provocarão o zeramento desta avaliação.\n",
        "\n",
        "Todas as suas simplificações e considerações serão levadas em consideração. Contudo, lembre-se que estas questões devem ser resolvidas com álgebra formal e apenas álgebra.\n",
        "\n",
        "Se você encontrar algo errado nesta avaliação simplesmente anote suas observações na própria questão. Suas observações serão consideradas durante a avaliação e, em caso de pertinência, poderão encejar a anulação do item, ou questão, a critério do professor.\n",
        "\n",
        "Não é permitido usar qualquer técnica matemática baseada em derivação, cálculo numérico, séries de Taylor ou Leibntz, ou que fuja dos conteúdos apresenados em aula referentes ao estudo dos conteúdos referentes a esta avaliação.\n",
        "\n",
        "Esta avaliação aborda os conteúdos referentes a limites, fórmula das diferenças finitas e tangentes.\n",
        "\n",
        "**Lembrem-se a interpretação faz parte da questão.**\n"
      ],
      "metadata": {
        "id": "IYWLM47FgvAt"
      }
    },
    {
      "cell_type": "markdown",
      "source": [
        "Isabella Vanderlinde Berkembrock"
      ],
      "metadata": {
        "id": "Hp2y0RHgbcXG"
      }
    },
    {
      "cell_type": "markdown",
      "source": [
        "## Questões\n",
        "Usando apenas álgebra encontre o limites solicitados a seguir e faça uma análise dos resultados encontrados. Para fazer a análise você pode usar as ferramentas que desejar, desde que seja possível verificar a validade das suas afirmações usando apenas este caderno de avaliação.\n",
        "\n",
        "Lembre-se você deve usar notação matemática na sua resposta. O que implica no uso de Latex nas células de texto deste caderno de avaliação.\n",
        "\n",
        "Observe que o cálculo do valor de tendência do limite, usando uma calculadora, site, ou ferramenta qualquer, por si só não pode ser usado como argumento na sua análise. Isso quer dizer que justificativas como o limite é $w$ porque o Sympy disse que era esse valor, não serão aceitas.\n",
        "\n",
        "### Exercício 1\n",
        "$$ \\lim_{x \\to 0} \\frac{\\sqrt{x+9} - 3}{x} $$\n",
        "\n",
        "### Exercício 2\n",
        "$$ \\lim_{x \\to \\infty} \\frac{25x + 7}{\\sqrt{5x^2 + 2}} $$\n",
        "\n",
        "### Exercício 3\n",
        "$$\n",
        "\\lim_{x \\to 1} f(x) \\text{ onde } f(x) = \\begin{cases}\n",
        "2x+1 & x \\leq 1 \\\\\n",
        "x^2 + 1 & x > 1\n",
        "\\end{cases}\n",
        "$$\n",
        "\n",
        "### Exercício 4\n",
        "$$\\lim_{x \\to -\\infty} (\\sqrt{x^2 - x} - x)$$\n",
        "\n",
        "**Atenção**: o sympy parece não calcular este limite corretamente.\n",
        "\n",
        "### Exercício 5\n",
        "$$ \\lim_{x \\to \\infty} \\frac{4x^2 + 3x - 5}{2x^2 - x + 1} $$\n",
        "\n",
        "**Rúbrica de avaliação**: cada limite corretamente determinado com a algebra demonstrada em notação matemática 1 ponto; cada análise consistente 1 ponto. Total 2 pontos por questão implicando em, no máximo 10 pontos."
      ],
      "metadata": {
        "id": "Hffk6Rtmhaga"
      }
    },
    {
      "cell_type": "markdown",
      "source": [
        "As análises podem ser feitas por meio da análise gráfica, ou da ánálise dos limites laterais (aproximações pela esquerda e pela direita. Serão avaliadas de acordo com o que for apresentado por cada aluno.\n"
      ],
      "metadata": {
        "id": "IhdeU66tVqpl"
      }
    },
    {
      "cell_type": "markdown",
      "source": [
        "### Exercício 1\n",
        "$$ \\lim_{x \\to 0} \\frac{\\sqrt{x+9} - 3}{x} $$\n",
        "\n",
        "Para resolver o limite\n",
        "\n",
        "\\\n",
        "$$ \\lim_{x \\to 0} \\frac{\\sqrt{x+9} - 3}{x} $$ \\\n",
        "\n",
        "primeiramente, se substituirmos diretamente $x = 0$, chegaremos a uma indeterminação $\\frac{0}{0}$. Para realizar a simplificação algébrica, precisaremos o numerador e o denominador pelo conjugado ${\\sqrt{x+9} + 3}$:\n",
        "\n",
        "\\\n",
        "$$ \\frac{(\\sqrt{x+9} - 3) \\cdot (\\sqrt{x+9} + 3)}{x \\cdot (\\sqrt{x+9} + 3)} $$ \\\n",
        "\n",
        "Realizando a distributiva e a simplificação do numerador, obteremos:\n",
        "\n",
        "\\\n",
        "$$ \\frac{(x+9) - 9}{x \\cdot (\\sqrt{x+9} + 3)} = \\frac{x}{x \\cdot (\\sqrt{x+9} + 3)}$$ \\\n",
        "\n",
        "Observamos que o $x$ no numerador e denominador se cancelam:\n",
        "\n",
        "\\\n",
        "$$ \\frac{1}{(\\sqrt{x+9} + 3)}$$ \\\n",
        "\n",
        "Simplifacando o denominador como $\\sqrt{x} + \\sqrt{9}+ 3$ e simplificando, obteremos:\n",
        "\n",
        "\\\n",
        "$$ \\frac{1}{(\\sqrt{x} + \\sqrt{9}+ 3)} = \\frac{1}{(\\sqrt{x} + 3 + 3)} = \\frac{1}{(\\sqrt{0} + 6)} = \\frac{1}{6}$$ \\\n",
        "\n",
        "Agora é possível aplicar o limite:\n",
        "\n",
        "\\\n",
        "$$ \\lim_{x \\to 0} \\frac{1}{(\\sqrt{x} + 6)} = \\frac{1}{(\\sqrt{0} + 6)} = \\frac{1}{6}$$ \\\n",
        "\n",
        "Assim, o limite quando $x$  tende a  0 é $\\frac{1}{6}$:\n",
        "\n",
        "\\\n",
        "$$ \\lim_{x \\to 0} \\frac{\\sqrt{x+9} - 3}{x} = \\frac{1}{6}$$ \\\n",
        "\n",
        " No gráfico abaixo podemos analisar o resultado encontrado, algebricamente do limite:"
      ],
      "metadata": {
        "id": "ngHlQX4DbV7e"
      }
    },
    {
      "cell_type": "code",
      "source": [
        "import numpy as np\n",
        "import sympy as sp\n",
        "from sympy import oo, limit, Symbol\n",
        "import matplotlib.pyplot as plt\n",
        "from math import sqrt\n",
        "\n",
        "def f(x):\n",
        "    return (np.sqrt(x + 9) - 3)/(x)\n",
        "\n",
        "x_sym = sp.Symbol('x')\n",
        "funcao_sym = (sp.sqrt(x_sym + 9) - 3)/(x_sym)\n",
        "\n",
        "ponto = 0\n",
        "x_start = -10\n",
        "x_stop = 10\n",
        "\n",
        "x_values = np.linspace(x_start, x_stop, 200)\n",
        "x_values = x_values[x_values != 0]\n",
        "y_values = f(x_values)\n",
        "\n",
        "plt.plot(x_values, y_values, label=r'$f(x) = \\frac{\\sqrt{x+9} - 3}{x} $')\n",
        "\n",
        "limite = limit(funcao_sym, x_sym, ponto)\n",
        "print(\"Limite de x → 0:\", limite)\n",
        "plt.text(-0.8, 0.7, f'({ponto}, {limite})', fontsize=10)\n",
        "plt.scatter([ponto], [limite],s=20, color='orange', label='Limite de x → 0')\n",
        "plt.plot([x_start, ponto], [limite, limite], 'orange', linestyle='--')\n",
        "plt.plot([ponto, ponto], [-10, limite], 'orange', linestyle='--')\n",
        "\n",
        "plt.xlabel(\"x\")\n",
        "plt.ylabel(\"f(x)\")\n",
        "plt.legend()\n",
        "plt.xlim(x_start, x_stop)\n",
        "plt.ylim(-10, 10)\n",
        "plt.grid()\n",
        "plt.show()\n"
      ],
      "metadata": {
        "colab": {
          "base_uri": "https://localhost:8080/",
          "height": 507
        },
        "id": "VHgXFqdBbmnv",
        "outputId": "ef0a06de-c81f-4bee-a52d-298c8b004b90"
      },
      "execution_count": 24,
      "outputs": [
        {
          "output_type": "stream",
          "name": "stderr",
          "text": [
            "<ipython-input-24-85b5d1b39ffd>:8: RuntimeWarning: invalid value encountered in sqrt\n",
            "  return (np.sqrt(x + 9) - 3)/(x)\n"
          ]
        },
        {
          "output_type": "stream",
          "name": "stdout",
          "text": [
            "Limite de x → 0: 1/6\n"
          ]
        },
        {
          "output_type": "display_data",
          "data": {
            "text/plain": [
              "<Figure size 640x480 with 1 Axes>"
            ],
            "image/png": "[encoded data removed]"
          },
          "metadata": {}
        }
      ]
    },
    {
      "cell_type": "markdown",
      "source": [
        "### Exercício 2\n",
        "$$ \\lim_{x \\to \\infty} \\frac{25x + 7}{\\sqrt{5x^2 + 2}} $$\n",
        "\n",
        "Para resolver o limite\n",
        "\n",
        "\\\n",
        "$$ \\lim_{x \\to \\infty} \\frac{25x + 7}{\\sqrt{5x^2 + 2}} $$ \\\n",
        "\n",
        "primeiramente, se substituirmos diretamente $x = \\infty$, chegaremos a uma indeterminação:\n",
        "\n",
        "\\\n",
        "$$\\frac{25\\cdot (\\infty) + 7}{\\sqrt{5\\cdot (\\infty)^2 + 2}} = \\frac{\\infty}{\\infty} = indeterminado$$ \\\n",
        "\n",
        " Para realizar a simplificação algébrica, iremos colocar o termo $x^2$ em evidência no denominador:\n",
        "\n",
        "\\\n",
        " $$  \\frac{25x + 7}{\\sqrt{x^2\\cdot ( 5 + \\frac{2}{x^2})}} $$ \\\n",
        "\n",
        " Agora enquanto o $x$ se aproxima do infinito, o termo $\\frac{2}{x^2}$ se aproxima de 0, então simplificaremos:\n",
        "\n",
        "\\\n",
        " $$  \\frac{25x + 7}{\\sqrt{x^2\\cdot  5 }} =   \\frac{25x + 7}{x\\sqrt{5 }} $$ \\\n",
        "\n",
        "Agora dividiremos cada termo por $x$, obtendo:\n",
        "\n",
        "\n",
        "\\\n",
        " $$\\frac{25 + \\frac{7}{x}}{\\sqrt{5 }} $$ \\\n",
        "\n",
        "Agora, como $x$ tende ao infinito, o termo $\\frac{7}{x}$ vai para 0:\n",
        "\n",
        "\\\n",
        " $$\\frac{25}{\\sqrt{5 }} $$ \\\n",
        "\n",
        "Agora podemos multiplicar o numerador e o denominador pelo conjugado $\\sqrt{5 }$:\n",
        "\n",
        "\\\n",
        " $$\\frac{25}{\\sqrt{5}} \\cdot  \\frac{\\sqrt{5}}{\\sqrt{5}} =  \\frac{25\\sqrt{5}}{5} = 5\\sqrt{5}$$ \\\n",
        "\n",
        "\n",
        "Assim, o limite quando $x$  tende a  $\\infty$ é $5\\sqrt{5}$:\n",
        "\n",
        "\\\n",
        "$$ \\lim_{x \\to \\infty} \\frac{25x + 7}{\\sqrt{5x^2 + 2}} = 5\\sqrt{5}$$ \\\n",
        "\n",
        "No gráfico abaixo podemos analisar o resultado encontrado, algebricamente do limite:\n",
        "\n",
        "\n",
        "\n"
      ],
      "metadata": {
        "id": "7OjPvLw0bnGR"
      }
    },
    {
      "cell_type": "code",
      "source": [
        "import numpy as np\n",
        "import sympy as sp\n",
        "from sympy import oo, limit, Symbol\n",
        "import matplotlib.pyplot as plt\n",
        "from math import sqrt\n",
        "\n",
        "def f(x):\n",
        "    return (25*x + 7)/(np.sqrt(5*x**2 + 2))\n",
        "\n",
        "x_sym = sp.Symbol('x')\n",
        "funcao_sym = (25*x_sym + 7)/(sp.sqrt(5*x_sym**2 + 2))\n",
        "\n",
        "ponto = oo\n",
        "x_start = -10\n",
        "x_stop = 10\n",
        "\n",
        "x_values = np.linspace(x_start, x_stop, 200)\n",
        "x_values = x_values[x_values != oo]\n",
        "y_values = f(x_values)\n",
        "\n",
        "plt.plot(x_values, y_values, label=r'$f(x) = \\frac{25x + 7}{\\sqrt{5x^2 + 2}}$')\n",
        "\n",
        "limite = limit(funcao_sym, x_sym, ponto)\n",
        "print(\"Limite de x → oo:\", limite)\n",
        "plt.text(2.5, 9.5, f'(∞, 5√5)', fontsize=10)\n",
        "plt.axhline(y=11.1803398875, color='orange', linestyle='--', label='Limite de x → ∞')\n",
        "\n",
        "plt.xlabel(\"x\")\n",
        "plt.ylabel(\"f(x)\")\n",
        "plt.legend()\n",
        "\n",
        "plt.grid()\n",
        "plt.show()\n"
      ],
      "metadata": {
        "colab": {
          "base_uri": "https://localhost:8080/",
          "height": 466
        },
        "id": "SMp4VkxGbqcj",
        "outputId": "63d14886-58df-4529-bbfe-2fc41ba8c7d8"
      },
      "execution_count": 45,
      "outputs": [
        {
          "output_type": "stream",
          "name": "stdout",
          "text": [
            "Limite de x → oo: 5*sqrt(5)\n"
          ]
        },
        {
          "output_type": "display_data",
          "data": {
            "text/plain": [
              "<Figure size 640x480 with 1 Axes>"
            ],
            "image/png": "[encoded data removed]"
          },
          "metadata": {}
        }
      ]
    },
    {
      "cell_type": "markdown",
      "source": [
        "### Exercício 3\n",
        "$$\n",
        "\\lim_{x \\to 1} f(x) \\text{ onde } f(x) = \\begin{cases}\n",
        "2x+1 & x \\leq 1 \\\\\n",
        "x^2 + 1 & x > 1\n",
        "\\end{cases}\n",
        "$$\n",
        "\n",
        "Para resolver o limite $$\n",
        "\\lim_{x \\to 1} f(x) \\text{ onde } f(x) = \\begin{cases}\n",
        "2x+1 & x \\leq 1 \\\\\n",
        "x^2 + 1 & x > 1\n",
        "\\end{cases}\n",
        "$$\n",
        "\\\n",
        "Podemos observar que a expressão $2x+1$ é a representação do limite lateral quando $x$ se aproxima pela esquerda e a expressão $x^2 + 1$, o limite lateral quando $x$ se aproxima pela direita, já que $x \\leq 1$ e $x > 1$, respectivamente. Para calcular os limites laterais, substituiremos diretamente $ x = 1 $:\n",
        "\n",
        "\\\n",
        "$$\\lim_{x \\to 1^+}(x^2 + 1) = 1^2 + 1 = 2$$ \\\n",
        "$$\\lim_{x \\to 1^-}(2x+1) = 2 = 2 \\cdot 1 + 1 = 3$$ \\\n",
        "\n",
        "Observamos que os limites laterais resultam em resultados diferentes, portanto há uma $descontinuidade$, como podemos perceber na tabela abaixo:"
      ],
      "metadata": {
        "id": "LLRnP7OoaxO7"
      }
    },
    {
      "cell_type": "code",
      "source": [
        "from sympy import symbols, limit, diff, sin, cos, ln, exp, sqrt, Rational\n",
        "import numpy as np\n",
        "import matplotlib.pyplot as plt\n",
        "from IPython.display import display, Math\n",
        "\n",
        "# Definindo a variável simbólica e a função\n",
        "x = symbols('x')\n",
        "fEsq = x**2 + 1\n",
        "fDir = 2*x + 1\n",
        "\n",
        "ponto_desejado = 1\n",
        "\n",
        "def criar_pontos_aproximacao(valor_limite, distancia=[0.1, 0.01, 0.001, 0.0001, 0.00001]):\n",
        "    pontos_esquerda = [valor_limite - d for d in distancia]\n",
        "    pontos_direita = [valor_limite + d for d in distancia]\n",
        "    return pontos_esquerda, pontos_direita\n",
        "\n",
        "# Reaplicando a função para criar os pontos de aproximação\n",
        "pontos_esquerda, pontos_direita = criar_pontos_aproximacao(ponto_desejado)\n",
        "\n",
        "# Recalculando os valores de f(x) para os pontos à esquerda e à direita\n",
        "valores_esquerda = [fDir.subs(x, ponto).evalf() for ponto in pontos_esquerda]\n",
        "valores_direita = [fEsq.subs(x, ponto).evalf() for ponto in pontos_direita]\n",
        "\n",
        "# Preparando a saída em formato de tabela novamente\n",
        "tabela_latex = \"\\\\begin{array}{|c|c|c|c|}\\n\"\n",
        "tabela_latex += \"\\\\hline\\n\"\n",
        "tabela_latex += \"\\\\text{Aprox. à Esquerda} & \\\\text{Valor} & \\\\text{Aprox. à Direita} & \\\\text{Valor} \\\\\\\\\\n\"\n",
        "tabela_latex += \"\\\\hline\\n\"\n",
        "for i in range(len(pontos_esquerda)):\n",
        "    tabela_latex += f\"{pontos_esquerda[i]:.5f} & {valores_esquerda[i]:.5f} & {pontos_direita[i]:.5f} & {valores_direita[i]:.5f} \\\\\\\\\\n\"\n",
        "tabela_latex += \"\\\\hline\\n\"\n",
        "tabela_latex += \"\\\\end{array}\"\n",
        "\n",
        "display(Math(tabela_latex))"
      ],
      "metadata": {
        "colab": {
          "base_uri": "https://localhost:8080/",
          "height": 140
        },
        "id": "W8PEOnN2a1kU",
        "outputId": "4e4007cd-fe34-40ae-bb6c-4cbe33ae9d47"
      },
      "execution_count": 1,
      "outputs": [
        {
          "output_type": "display_data",
          "data": {
            "text/plain": [
              "<IPython.core.display.Math object>"
            ],
            "text/latex": "$\\displaystyle \\begin{array}{|c|c|c|c|}\n\\hline\n\\text{Aprox. à Esquerda} & \\text{Valor} & \\text{Aprox. à Direita} & \\text{Valor} \\\\\n\\hline\n0.90000 & 2.80000 & 1.10000 & 2.21000 \\\\\n0.99000 & 2.98000 & 1.01000 & 2.02010 \\\\\n0.99900 & 2.99800 & 1.00100 & 2.00200 \\\\\n0.99990 & 2.99980 & 1.00010 & 2.00020 \\\\\n0.99999 & 2.99998 & 1.00001 & 2.00002 \\\\\n\\hline\n\\end{array}$"
          },
          "metadata": {}
        }
      ]
    },
    {
      "cell_type": "markdown",
      "source": [
        "### Exercício 4\n",
        "$$\\lim_{x \\to -\\infty} (\\sqrt{x^2 - x} - x)$$\n",
        "\n",
        "Para resolver o limite $$\\lim_{x \\to -\\infty} (\\sqrt{x^2 - x} - x)$$ \\\n",
        "primeiramente, substituiremos diretamente $ x = \\infty$, obtendo:\n",
        "\n",
        "\\\n",
        "$$\\sqrt{(-\\infty)^2 - (-\\infty)} - (-\\infty)$$\n",
        "\n",
        "Resolvendo a equação usando as propriedades matemáticas do infinito, teremos:\n",
        "\n",
        "\\\n",
        "$$\\sqrt{\\infty + \\infty} + \\infty =\\sqrt{\\infty} + \\infty = \\infty$$\n",
        "\n",
        "Assim, o limite quando $x$ tende a $-\\infty$ é $\\infty$.\n",
        "\n",
        "\\\n",
        "$$\\lim_{x \\to -\\infty} (\\sqrt{x^2 - x} - x) = \\infty$$ \\\n",
        "\n",
        "Na tabela abaixo podemos analisar o resultado encontrado, algebricamente do limite:"
      ],
      "metadata": {
        "id": "wgrBLEITa-26"
      }
    },
    {
      "cell_type": "markdown",
      "source": [
        "\\begin{array}{|c|c|c|c|}\n",
        "\\hline\n",
        "\\text{Aprox.pela Esquerda} & \\text{Valor} \\\\\n",
        "\\hline\n",
        "-100.0 & 10000 \\\\\n",
        "-1000.0 &  1000000 \\\\\n",
        "-10000.0 & 100000000 \\\\\n",
        "-100000.0 & 10000000000 \\\\\n",
        "-1000000.0 & 1000000000000 \\\\\n",
        "\\hline\n",
        "\\end{array}"
      ],
      "metadata": {
        "id": "4IyiyD-zwGnd"
      }
    },
    {
      "cell_type": "markdown",
      "source": [],
      "metadata": {
        "id": "H-4cXENcxcIP"
      }
    },
    {
      "cell_type": "markdown",
      "source": [
        "### Exercício 5\n",
        "$$ \\lim_{x \\to \\infty} \\frac{4x^2 + 3x - 5}{2x^2 - x + 1} $$\n",
        "\n",
        "Para resolver o limite $$ \\lim_{x \\to \\infty} \\frac{4x^2 + 3x - 5}{2x^2 - x + 1} $$ \\\n",
        "primeiramente, se substituirmos diretamente $x = \\infty$, chegaremos a uma indeterminação:\n",
        "\n",
        "\\\n",
        "$$\\frac{4\\cdot(\\infty)^2 + 3\\cdot(\\infty) - 5}{2\\cdot(\\infty)^2 - (\\infty) + 1}= \\frac{\\infty + \\infty - 5}{\\infty - \\infty + 1} = \\frac{\\infty + \\infty}{\\infty - \\infty} = indeterminado$$ \\\n",
        "\n",
        "Para realizar a simplificação algébrica, iremos colocar o $x^2$ em evidência tanto no numerador quanto no denominador:\n",
        "\n",
        "\\\n",
        "$$\\frac{x^2\\cdot(4 + \\frac{3}{x} - \\frac{5}{x^2})}{x^2\\cdot(2 - \\frac{1}{x} + \\frac{1}{x^2})}$$ \\\n",
        "\n",
        "O termo $x^2$ no numerador e no denominador se cancelam. Portanto a expressão simplificada é:\n",
        "\n",
        "\\\n",
        "$$\\frac{(4 + \\frac{3}{x} - \\frac{5}{x^2})}{(2 - \\frac{1}{x} + \\frac{1}{x^2})}$$ \\\n",
        "\n",
        "Agora é possível aplicar o limite, usando as propriedades matemáticas do infinito:\n",
        "\n",
        "\\\n",
        "$$\\lim_{x \\to \\infty} \\frac{(4 + \\frac{3}{\\infty} - \\frac{5}{\\infty^2})}{(2 - \\frac{1}{\\infty} + \\frac{1}{\\infty^2})} = \\frac{(4 + 0 - 0)}{(2 -0 + 0)} =  \\frac{4}{2} = 2$$\n",
        "\n",
        "Assim, o limite quando $x$ tende a $\\infty$ é 2. No gráfico abaixo podemos analisar o resultado encontrado, algebricamente do limite:"
      ],
      "metadata": {
        "id": "PLDSntOObDqN"
      }
    },
    {
      "cell_type": "code",
      "source": [
        "import numpy as np\n",
        "import sympy as sp\n",
        "from sympy import oo, limit, Symbol\n",
        "import matplotlib.pyplot as plt\n",
        "from math import sqrt\n",
        "\n",
        "def f(x):\n",
        "    return (4*x**2 + 3*x - 5) / (2*x**2 - x + 1)\n",
        "\n",
        "x_sym = sp.Symbol('x')\n",
        "funcao_sym = (4*x_sym**2 + 3*x_sym - 5) / (2*x_sym**2 - x_sym + 1)\n",
        "\n",
        "ponto = oo\n",
        "x_start = -10\n",
        "x_stop = 10\n",
        "\n",
        "x_values = np.linspace(x_start, x_stop, 200)\n",
        "x_values = x_values[x_values != oo]\n",
        "y_values = f(x_values)\n",
        "\n",
        "plt.plot(x_values, y_values, label=r'$f(x) = \\frac{4x^2 + 3x - 5}{2x^2 - x + 1} $')\n",
        "\n",
        "limite = limit(funcao_sym, x_sym, ponto)\n",
        "print(\"Limite de x → oo:\", limite)\n",
        "plt.text(-0.7, 2.5, f'(∞, {limite})', fontsize=10)\n",
        "plt.axhline(y=limite, color='orange', linestyle='--', label='Limite de x → ∞')\n",
        "\n",
        "plt.xlabel(\"x\")\n",
        "plt.ylabel(\"f(x)\")\n",
        "plt.legend()\n",
        "plt.xlim(x_start, x_stop)\n",
        "plt.ylim(-10, 10)\n",
        "plt.grid()\n",
        "plt.show()\n"
      ],
      "metadata": {
        "colab": {
          "base_uri": "https://localhost:8080/",
          "height": 472
        },
        "id": "iAc8pv5SbHzn",
        "outputId": "8ed7a679-6178-4193-b1ff-2fad3661e2dd"
      },
      "execution_count": 3,
      "outputs": [
        {
          "output_type": "stream",
          "name": "stdout",
          "text": [
            "Limite de x → oo: 2\n"
          ]
        },
        {
          "output_type": "display_data",
          "data": {
            "text/plain": [
              "<Figure size 640x480 with 1 Axes>"
            ],
            "image/png": "[encoded data removed]"
          },
          "metadata": {}
        }
      ]
    }
  ]
}